{
 "metadata": {
  "name": "Regular Expressions in Python tutorial - code"
 },
 "nbformat": 3,
 "nbformat_minor": 0,
 "worksheets": [
  {
   "cells": [
    {
     "cell_type": "markdown",
     "metadata": {},
     "source": [
      "Regular Expressions in Python\n",
      "-----------------------------\n",
      "PyLadies Meetup, August 2013\n",
      "\n",
      "Michelle Fullwood"
     ]
    },
    {
     "cell_type": "markdown",
     "metadata": {},
     "source": []
    }
   ],
   "metadata": {}
  }
 ]
}