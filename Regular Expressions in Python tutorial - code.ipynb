{
 "metadata": {
  "name": "Regular Expressions in Python tutorial - code"
 },
 "nbformat": 3,
 "nbformat_minor": 0,
 "worksheets": [
  {
   "cells": [
    {
     "cell_type": "markdown",
     "metadata": {},
     "source": [
      "Regular Expressions in Python - Exercises\n",
      "-----------------------------\n",
      "PyLadies Meetup, August 2013\n",
      "\n",
      "Michelle Fullwood"
     ]
    },
    {
     "cell_type": "code",
     "collapsed": false,
     "input": [
      "# Before doing anything else, run this cell.\n",
      "# To do that, either press the play button above, or press Shift+Enter\n",
      "import re \n",
      "\n",
      "# This makes available the functions in the re module - re.search, re.match, re.findall, etc"
     ],
     "language": "python",
     "metadata": {},
     "outputs": [],
     "prompt_number": 1
    },
    {
     "cell_type": "code",
     "collapsed": false,
     "input": [
      "# Exercise 1 - Using metacharacters\n",
      "\n",
      "# Match sequences that look like this: A1B C2D - pairs of letter-digit-letter sequences.\n",
      "regex  = r'...' # replace the ellipsis with a suitable regular expression\n",
      "string = 'A1B C2D' \n",
      "re.match(regex, string)"
     ],
     "language": "python",
     "metadata": {},
     "outputs": [
      {
       "output_type": "pyout",
       "prompt_number": 2,
       "text": [
        "<_sre.SRE_Match at 0x29663d8>"
       ]
      }
     ],
     "prompt_number": 2
    },
    {
     "cell_type": "code",
     "collapsed": false,
     "input": [
      "# Exercise 1 (continued) - what happens if we try to match a non-matching string?\n",
      "\n",
      "string = 'A1B_C2D' # play around with this and see what happens!\n",
      "re.match(regex, string)"
     ],
     "language": "python",
     "metadata": {},
     "outputs": [],
     "prompt_number": 3
    },
    {
     "cell_type": "code",
     "collapsed": false,
     "input": [
      "# Exercise 2 - Specifying custom sets of characters\n",
      "\n",
      "# We saw some metacharacters in the previous slide: \\w, \\d, \\s\n",
      "# Define custom character ranges that are equivalent to these, WITHOUT using metacharacters (things like \\n are fine)\n",
      "\n",
      "# Exercise 2a\n",
      "digit_regex     = r'[...]' # match definition of \\d\n",
      "\n",
      "# Exercise 2b\n",
      "wordlike_regex  = r'[...]' # match definition of \\w (at least, for English)\n",
      "\n",
      "# Exercise 2c\n",
      "spacelike_regex = r'[...]' # match definition of \\s"
     ],
     "language": "python",
     "metadata": {},
     "outputs": [],
     "prompt_number": 23
    },
    {
     "cell_type": "code",
     "collapsed": false,
     "input": [
      "# Test function for exercise 2. Run this to see if your definitions were correct.\n",
      "# Don't worry about understanding the code in here just now.\n",
      "\n",
      "def test_regex(regex_name, regex, successful_cases, unsuccessful_cases):\n",
      "    cregex = re.compile(regex)\n",
      "    errors = 0\n",
      "    for case in successful_cases:\n",
      "        if not cregex.match(case):\n",
      "            print \"Your %s didn't match %s\" % (regex_name, case)\n",
      "            errors += 1\n",
      "    for case in unsuccessful_cases:\n",
      "        if cregex.match(case):\n",
      "            print \"Your %s matched %s when it wasn't supposed to\" % (regex_name, case)\n",
      "            errors += 1\n",
      "    if errors == 0:\n",
      "        print \"No errors in your %s\" % regex_name\n",
      "            \n",
      "test_regex('Digit regex', digit_regex, '0123456789', 'aZ \\t\\n$_')\n",
      "test_regex('Wordlike regex', wordlike_regex, 'ampBLY_058', ' \\t\\n-$')\n",
      "test_regex('Spacelike regex', spacelike_regex, ' \\t\\r\\n', 'ahlB_-$9')"
     ],
     "language": "python",
     "metadata": {},
     "outputs": [
      {
       "output_type": "stream",
       "stream": "stdout",
       "text": [
        "No errors in your Digit regex\n",
        "Your Wordlike regex didn't match a\n",
        "Your Wordlike regex didn't match m\n",
        "Your Wordlike regex didn't match p\n",
        "No errors in your Spacelike regex\n"
       ]
      }
     ],
     "prompt_number": 24
    },
    {
     "cell_type": "code",
     "collapsed": false,
     "input": [
      "# Exercise 3 - examples with ^, $, \\b\n",
      "\n",
      "# Go through each line and predict whether there will be a match or not. \n",
      "# Then run this code block and see whether you were right.\n",
      "\n",
      "print \"Match 1: \", re.search(r'^Hallo$', 'Hallo')        # Matches: yes/no\n",
      "print \"Match 2: \", re.search(r'^Hallo$', 'Hallo World')  # Matches: yes/no\n",
      "print \"Match 3: \", re.search(r'^Hallo$', 'Well, Hallo!') # Matches: yes/no\n",
      "\n",
      "print \"Match 4: \", re.search(r'\\bHallo\\b', 'Well, Hallo!') # Matches: yes/no\n",
      "print \"Match 5: \", re.search(r'\\bHallo\\b', 'Harry Potter and the Deathly Hallows') # Matches: yes/no"
     ],
     "language": "python",
     "metadata": {},
     "outputs": [
      {
       "output_type": "stream",
       "stream": "stdout",
       "text": [
        "Match 1:  <_sre.SRE_Match object at 0x2a6eed0>\n",
        "Match 2:  None\n",
        "Match 3:  None\n",
        "Match 4:  <_sre.SRE_Match object at 0x2a6eed0>\n",
        "Match 5:  None\n"
       ]
      }
     ],
     "prompt_number": 32
    },
    {
     "cell_type": "code",
     "collapsed": false,
     "input": [
      "# Exercise 4a - match prices $5.99 and less\n",
      "\n",
      "price_regex = r'$[0-5].\\d\\d' # match strings $0.00 to $5.99\n",
      "\n",
      "if not re.match(price_regex, '$3.99'):\n",
      "   print \"Uh oh, it didn't match!\""
     ],
     "language": "python",
     "metadata": {},
     "outputs": [
      {
       "output_type": "stream",
       "stream": "stdout",
       "text": [
        "Uh oh, it didn't work!\n"
       ]
      }
     ],
     "prompt_number": 26
    },
    {
     "cell_type": "code",
     "collapsed": false,
     "input": [
      "# Exercise 4b - fixing price regex\n",
      "\n",
      "# Fix the price_regex below and try running this code block\n",
      "\n",
      "price_regex = r'$[0-5].\\d\\d' # match strings $0.00 to $5.99\n",
      "\n",
      "if not re.match(price_regex, '$3.99'):\n",
      "    print \"Uh oh, it didn't match!\"\n",
      "    \n",
      "if re.match(price_regex, '$3999'):\n",
      "    print \"Uh oh, it matched $3999!\""
     ],
     "language": "python",
     "metadata": {},
     "outputs": [
      {
       "output_type": "stream",
       "stream": "stdout",
       "text": [
        "Uh oh, it matched $3999!\n"
       ]
      }
     ],
     "prompt_number": 34
    },
    {
     "cell_type": "code",
     "collapsed": false,
     "input": [
      "# Exercise 4c - fixing price regex\n",
      "\n",
      "# Fix the price_regex below and try running the code block (note: you'll have to fix two things!)\n",
      "\n",
      "price_regex = r'$[0-5].\\d\\d' # match strings $0.00 to $5.99\n",
      "\n",
      "if not re.match(price_regex, '$3.99'):\n",
      "    print \"Uh oh, it didn't match!\"\n",
      "    \n",
      "if re.match(price_regex, '$3999'):\n",
      "    print \"Uh oh, it matched $3999!\""
     ],
     "language": "python",
     "metadata": {},
     "outputs": [],
     "prompt_number": 35
    },
    {
     "cell_type": "code",
     "collapsed": false,
     "input": [
      "# Exercise 4d - checking that metacharacters have their usual meaning within []\n",
      "\n",
      "metacharacter_regex = r'[$^.]'\n",
      "test_regex('Metacharacter regex', metacharacter_regex, '^$.', 'a1')"
     ],
     "language": "python",
     "metadata": {},
     "outputs": [
      {
       "output_type": "stream",
       "stream": "stdout",
       "text": [
        "No errors in your Metacharacter regex\n"
       ]
      }
     ],
     "prompt_number": 37
    },
    {
     "cell_type": "code",
     "collapsed": false,
     "input": [
      "# Exercise 5a - Set complements\n",
      "\n",
      "# Let's rearrange the metacharacter_regex above. Why doesn't it work as we wanted?\n",
      "metacharacter_regex = r'[^$.]'\n",
      "test_regex('Metacharacter regex', metacharacter_regex, '^$.', 'a1')\n",
      "\n",
      "# What can we change to make it work, besides rearranging the characters?\n",
      "edited_metacharacter_regex = r'[^$.]'\n",
      "test_regex('Edited Metacharacter regex', edited_metacharacter_regex, '^$.', 'a1')\n",
      "\n",
      "# So, saying \"within character sets [], metacharacters have their regular meaning except backslashes\"\n",
      "# is true EXCEPT that ^ means complement if it's the first character [^...]. Elsewhere, it means the caret character."
     ],
     "language": "python",
     "metadata": {},
     "outputs": [
      {
       "output_type": "stream",
       "stream": "stdout",
       "text": [
        "Your Metacharacter regex didn't match $\n",
        "Your Metacharacter regex didn't match .\n",
        "Your Metacharacter regex matched a when it wasn't supposed to\n",
        "Your Metacharacter regex matched 1 when it wasn't supposed to\n",
        "Your Edited Metacharacter regex didn't match $\n",
        "Your Edited Metacharacter regex didn't match .\n",
        "Your Edited Metacharacter regex matched a when it wasn't supposed to\n",
        "Your Edited Metacharacter regex matched 1 when it wasn't supposed to\n"
       ]
      }
     ],
     "prompt_number": 40
    },
    {
     "cell_type": "code",
     "collapsed": false,
     "input": [
      "# Exercise 5b - Set complements\n",
      "\n",
      "# "
     ],
     "language": "python",
     "metadata": {},
     "outputs": []
    }
   ],
   "metadata": {}
  }
 ]
}