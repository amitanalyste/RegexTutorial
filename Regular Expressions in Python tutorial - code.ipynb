{
 "metadata": {
  "name": "Regular Expressions in Python tutorial - code"
 },
 "nbformat": 3,
 "nbformat_minor": 0,
 "worksheets": [
  {
   "cells": [
    {
     "cell_type": "markdown",
     "metadata": {},
     "source": [
      "Regular Expressions in Python - Exercises\n",
      "-----------------------------\n",
      "PyLadies Meetup, August 2013\n",
      "\n",
      "Michelle Fullwood"
     ]
    },
    {
     "cell_type": "code",
     "collapsed": false,
     "input": [
      "# Before doing anything else, run this cell.\n",
      "# To do that, either press the play button above, or press Shift+Enter\n",
      "import re \n",
      "\n",
      "# This makes available the functions in the re module - re.search, re.match, re.findall, etc"
     ],
     "language": "python",
     "metadata": {},
     "outputs": [],
     "prompt_number": 1
    },
    {
     "cell_type": "code",
     "collapsed": false,
     "input": [
      "# Exercise 1 - Using metacharacters\n",
      "\n",
      "# Match sequences that look like this: A1B C2D - pairs of letter-digit-letter sequences.\n",
      "regex  = r'...' # replace the ellipsis with a suitable regular expression\n",
      "string = 'A1B C2D' \n",
      "re.match(regex, string)"
     ],
     "language": "python",
     "metadata": {},
     "outputs": [
      {
       "output_type": "pyout",
       "prompt_number": 2,
       "text": [
        "<_sre.SRE_Match at 0x29663d8>"
       ]
      }
     ],
     "prompt_number": 2
    },
    {
     "cell_type": "code",
     "collapsed": false,
     "input": [
      "# Exercise 1 (continued) - what happens if we try to match a non-matching string?\n",
      "\n",
      "string = 'A1B_C2D' \n",
      "re.match(regex, string)"
     ],
     "language": "python",
     "metadata": {},
     "outputs": [],
     "prompt_number": 3
    },
    {
     "cell_type": "code",
     "collapsed": false,
     "input": [],
     "language": "python",
     "metadata": {},
     "outputs": [],
     "prompt_number": 3
    },
    {
     "cell_type": "code",
     "collapsed": false,
     "input": [],
     "language": "python",
     "metadata": {},
     "outputs": []
    }
   ],
   "metadata": {}
  }
 ]
}